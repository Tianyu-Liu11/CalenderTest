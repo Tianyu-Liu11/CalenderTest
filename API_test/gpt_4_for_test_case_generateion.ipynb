{
 "cells": [
  {
   "cell_type": "code",
   "execution_count": 1,
   "metadata": {},
   "outputs": [],
   "source": [
    "import os\n",
    "from openai import OpenAI\n",
    "from dotenv import load_dotenv"
   ]
  },
  {
   "cell_type": "markdown",
   "metadata": {},
   "source": [
    "Save the OPENAI_KEY into \".env\" file, and *** AND .env TO YOUR .gitignore FILE. ***"
   ]
  },
  {
   "cell_type": "markdown",
   "metadata": {},
   "source": [
    "For normal use GPT-4 test"
   ]
  },
  {
   "cell_type": "code",
   "execution_count": 2,
   "metadata": {},
   "outputs": [],
   "source": [
    "MODEL = \"gpt-4\"\n",
    "PROMPT = \"\"\"\n",
    "Based on the examples, write 10 similar tasks about your calendar summarization and analysis, for example, adding constraints, changing time setting. \n",
    "\n",
    "For example:\n",
    "\"At what hour of the day I typically have the most meetings?\",\n",
    "\n",
    "Your generated tasks should have same logic as the example but can be more diversity\n",
    "\n",
    "Your response is:\n",
    "\"\"\""
   ]
  },
  {
   "cell_type": "code",
   "execution_count": 3,
   "metadata": {},
   "outputs": [
    {
     "name": "stdout",
     "output_type": "stream",
     "text": [
      "1. \"On which day of the week do I usually have the fewest appointments?\"\n",
      "2. \"How long is my average meeting duration this month?\"\n",
      "3. \"During which month do I have the highest number of professional events scheduled?\"\n",
      "4. \"What is the most common location for my meetings in the last quarter?\"\n",
      "5. \"How many days on my calendar were completely free of meetings last year?\"\n",
      "6. \"What is the earliest time I have scheduled a meeting in the past six months?\"\n",
      "7. \"Which type of meeting (e.g., conference call, in-person, webinar) do I most frequently attend?\"\n",
      "8. \"Are there recurring meetings that I attend weekly, and if so, on what days do they occur?\"\n",
      "9. \"What is the total number of hours I spent in meetings last week?\"\n",
      "10. \"What percentage of my calendar is allocated to personal activities versus work-related meetings annually?\"\n"
     ]
    }
   ],
   "source": [
    "MODEL = \"gpt-4-turbo\"\n",
    "# MODEL = \"gpt-3.5-turbo\"\n",
    "\n",
    "client = OpenAI(\n",
    "    # This is the default and can be omitted\n",
    "    api_key=os.environ.get(\"OPENAI_API_KEY\"),\n",
    ")\n",
    "\n",
    "chat_completion = client.chat.completions.create(\n",
    "    messages=[\n",
    "        {\n",
    "            \"role\": \"user\",\n",
    "            \"content\":PROMPT,\n",
    "        }\n",
    "    ],\n",
    "    model=MODEL,\n",
    ")\n",
    "\n",
    "# verify the output\n",
    "generated_text = chat_completion.choices[0].message.content\n",
    "print(generated_text)"
   ]
  },
  {
   "cell_type": "markdown",
   "metadata": {},
   "source": [
    "\"Determine the percentage increase in meeting hours from last quarter to this quarter.\"\n",
    "1. \"Can you identify any recurring meetings that occur on a monthly basis and list their purposes?\"\n",
    "2. \"What is the most common day of the week for meetings in my calendar history?\"\n",
    "3. \"How many total hours do I typically schedule for meetings each week?\"\n",
    "4. \"What is the longest event duration in my calendar history?\"\n",
    "5. \"What proportion of events in my calendar are repeated events?\"\n",
    "6. \"How many events on average are there in my calendar per day?\"\n",
    "7. \"Which month of the year typically has the highest number of appointments?\"\n",
    "8. \"What is the ratio of personal events to professional meetings in my calendar?\"\n",
    "9. \"Which quarter of the year generally has the least number of scheduled events?\"\n",
    "10. \"What is the earliest and latest time I have scheduled an event?\"\n",
    "11. \"What is the frequency of virtual meetings versus physical meetings in my calendar?\"\n",
    "12. \"Which day of the week do I have the most appointments scheduled?\"\n",
    "13. \"What is the average duration of meetings on my calendar?\"\n",
    "14. \"How many recurring meetings do I attend each month?\"\n",
    "15. \"What percentage of my monthly calendar is occupied by work-related events versus personal events?\"\n",
    "16. \"Which month of the year typically has the highest density of scheduled events?\"\n",
    "17. \"How does the number of meetings I attend change during holidays or vacation periods?\"\n",
    "18. \"What is the most frequent location (physical or virtual) for my meetings?\"\n",
    "19. \"Who are the most common participants in my scheduled meetings?\"\n",
    "20. \"How much travel time is allocated in my schedule for off-site meetings in a typical week?\"\n",
    "21. \"What are the peak times for scheduling conflicts in my calendar, and how are these typically resolved?\""
   ]
  },
  {
   "cell_type": "markdown",
   "metadata": {},
   "source": [
    "Prompt for calendar questions"
   ]
  },
  {
   "cell_type": "code",
   "execution_count": 7,
   "metadata": {},
   "outputs": [
    {
     "name": "stdout",
     "output_type": "stream",
     "text": [
      "1. \"How many events do I have this week?\"\n",
      "2. \"What are the details of my meeting tomorrow?\"\n",
      "3. \"What's the location of my scheduled appointments for the next week?\"\n",
      "4. \"Who is the host for my calendar event on Friday?\"\n",
      "5. \"When is my next open slot next week?\"\n",
      "6. \"What is the average duration of my meetings?\"\n",
      "7. \"Which event in my calendar got postponed recently?\"\n",
      "8. \"What are the upcoming vacations marked in my calendar?\"\n",
      "9. \"Who are the people participating in my conference call next Monday?\"\n",
      "10. \"What are the themes of my scheduled webinars?\"\n"
     ]
    }
   ],
   "source": [
    "prompt = f\"\"\"\n",
    "    You are a testing engineer. You objective is to generate more questions to test the analysis and summarization ability of a system.\n",
    "\n",
    "    Write 10 different questions about your calendar summarization and analysis. For example:\n",
    "    \"what's my schedule today?\",\n",
    "    \"who are the people that I'm meeting with today?\"\n",
    "    \n",
    "    Your output is:\n",
    "\"\"\"\n",
    "\n",
    "chat_completion = client.chat.completions.create(\n",
    "    messages=[\n",
    "        {\n",
    "            \"role\": \"user\",\n",
    "            \"content\": prompt,\n",
    "        }\n",
    "    ],\n",
    "    model=MODEL,\n",
    ")\n",
    "\n",
    "# verify the output\n",
    "generated_text = chat_completion.choices[0].message.content\n",
    "generated_text"
   ]
  },
  {
   "cell_type": "markdown",
   "metadata": {},
   "source": [
    "Prompt for generting meeting date with format YYYY-MM-DD hh:mm:ss-00:00"
   ]
  },
  {
   "cell_type": "code",
   "execution_count": 9,
   "metadata": {},
   "outputs": [
    {
     "name": "stdout",
     "output_type": "stream",
     "text": [
      "1. \"Can you determine which event in my calendar this month had the most participants?\"\n",
      "2. \"From my calendar for the past week, which person have I met the most frequently?\"\n",
      "3. \"Analyse my calendar and summarize the time allocated to different types of activities.\"\n",
      "4. \"How much time from my past month's calendar was spent on reunions with old friends?\"\n",
      "5. \"Based on my calendar for the next month, what days do I have free?\"\n",
      "6. \"Can you analyze my calendar and tell me how many hours I've dedicated to self-study this week?\"\n",
      "7. \"What percentage of my time this week was spent on work-related meetings?\"\n",
      "8. \"Identify the longest meeting in my calendar from last week.\"\n",
      "9. \"Analyze my calendar and estimate how much time I've spent commuting this week.\"\n",
      "10. \"Based on my calendar events for the past month, on which days did I not have any obligations?\"\n",
      "11. \"Compute the total time I have spent on business conferences this year, based on my calendar.\"\n",
      "12. \"Provide a summary of the most frequent activity in my calendar this month.\"\n",
      "13. \"Analyse my calendar and identify the most and least active day this week to help me balance my workload.\"\n",
      "14. \"Can you analyze and tell me how I can rearrange my schedule to include a one-hour break between meetings?\"\n",
      "15. \"Based on my upcoming calendar events, when should I schedule time for a new project?\"  \n",
      "16. \"Identify who I have the most meetings with based on my calendar for last month.\"\n",
      "17. \"Analyze my calendar and tell me which activities repeat every day.\"\n",
      "18. \"Can you summarize the total time spent on family events from my calendar last month?\"\n",
      "19. \"Analyze my calendar and inform me, how many new contacts I met this week?\"\n",
      "20. \"Can you determine the average duration of my meetings based on my calendar data?\"\n"
     ]
    }
   ],
   "source": [
    "prompt = \"\"\"You are a system testing engineer. This system is used for analyzing and summarizing your calendar data. You objective is to generate more questions to test the analysis and summarization ability of a system.\n",
    "\n",
    "Here is the example: \n",
    "\"the people that I've met today, how many times I met them in the this week?\",\n",
    "\"analyze my calender this week and tell me how I can optimize it to have 30min walk time daily\",\n",
    "\"analyze my calender this week and tell me my busiest day and why by showing the name of the meetings and who participated in them?\"\n",
    "\n",
    "Results:\n",
    "\"\"\"\n",
    "\n",
    "chat_completion = client.chat.completions.create(\n",
    "    messages=[\n",
    "        {\n",
    "            \"role\": \"user\",\n",
    "            \"content\": prompt,\n",
    "        }\n",
    "    ],\n",
    "    model=MODEL,\n",
    ")\n",
    "\n",
    "# verify the output\n",
    "generated_text = chat_completion.choices[0].message.content\n",
    "print(generated_text)"
   ]
  }
 ],
 "metadata": {
  "kernelspec": {
   "display_name": "Python 3",
   "language": "python",
   "name": "python3"
  },
  "language_info": {
   "codemirror_mode": {
    "name": "ipython",
    "version": 3
   },
   "file_extension": ".py",
   "mimetype": "text/x-python",
   "name": "python",
   "nbconvert_exporter": "python",
   "pygments_lexer": "ipython3",
   "version": "3.12.1"
  }
 },
 "nbformat": 4,
 "nbformat_minor": 2
}
