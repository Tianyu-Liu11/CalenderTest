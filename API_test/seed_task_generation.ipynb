{
 "cells": [
  {
   "cell_type": "code",
   "execution_count": 57,
   "metadata": {},
   "outputs": [],
   "source": [
    "import os\n",
    "import re\n",
    "from openai import OpenAI\n",
    "import pandas as pd\n",
    "from pandas import Timestamp, DataFrame\n",
    "from datetime import timedelta"
   ]
  },
  {
   "cell_type": "markdown",
   "metadata": {},
   "source": [
    "Save the OPENAI_KEY into \".env\" file, and *** AND .env TO YOUR .gitignore FILE. ***"
   ]
  },
  {
   "cell_type": "code",
   "execution_count": 58,
   "metadata": {},
   "outputs": [],
   "source": [
    "def convert_date(calendar_data):   \n",
    "    # Convert 'start' and 'end' columns to datetime objects\n",
    "    # calendar_data['start'] = pd.to_datetime(calendar_data['start'])\n",
    "    # calendar_data['end']   = pd.to_datetime(calendar_data['end'])\n",
    "    # Format 'start' and 'end' columns into the desired string format\n",
    "    calendar_data['start'] = calendar_data['start'].dt.strftime('%Y-%m-%d %H:%M:%S')\n",
    "    calendar_data['end']   = calendar_data['end'].dt.strftime('%Y-%m-%d %H:%M:%S')\n",
    "    \n",
    "    calendar_data['start'] = pd.to_datetime(calendar_data['start'])\n",
    "    calendar_data['end']   = pd.to_datetime(calendar_data['end'])\n",
    "    # calendar_data['attendees'] = [ str(item) for item in calendar_data['attendees'] ]\n",
    "    # weekdays = [\"Monday\", \"Tuesday\", \"Wednesday\", \"Thursday\", \"Friday\", \"Saturday\", \"Sunday\"]\n",
    "    # calendar_data['weekday'] =[ weekdays[pd.to_datetime(calendar_data[\"start\"][i], format='%Y-%m-%d %H:%M:%S').weekday()] for i in range(len(calendar_data['start']))]\n",
    "    \n",
    "    return calendar_data\n",
    "\n",
    "df_as_dicts = [\n",
    "    {'ID': 'd119c9af-4d0c-4d08-a1b6-344d02557345', 'status': 'confirmed', 'summary': 'Planning meeting', 'start': Timestamp('2023-10-02 09:00:00-0700', tz='America/Los_Angeles'), 'end': Timestamp('2023-10-02 10:00:00-0700', tz='America/Los_Angeles'), 'duration': 3600.0, 'attendees': 'janesmith@example.com(needsAction)\\njoshrock@example.com(needsAction)\\nrichardbaker@example.com(needsAction)'},\n",
    "    {'ID': 'a115b615-fd92-4397-865c-ddd367b8d3bd', 'status': 'confirmed', 'summary': 'Strategy review', 'start': Timestamp('2023-10-02 10:00:00-0700', tz='America/Los_Angeles'), 'end': Timestamp('2023-10-02 12:00:00-0700', tz='America/Los_Angeles'), 'duration': 7200.0, 'attendees': 'janesmith@example.com(needsAction)\\nleonardhill@example.com(needsAction)\\nrichardx@example.com(needsAction)\\nrichardbaker@example.com(needsAction)'},\n",
    "    {'ID': '4b3aae2a-193d-4fc4-957e-30fb429abe10', 'status': 'confirmed', 'summary': 'Lunch', 'start': Timestamp('2023-10-02 12:00:00-0700', tz='America/Los_Angeles'), 'end': Timestamp('2023-10-02 13:00:00-0700', tz='America/Los_Angeles'), 'duration': 3600.0, 'attendees': ''},\n",
    "    {'ID': '79d54031-f8e9-4492-80bd-4fe34778e102', 'status': 'confirmed', 'summary': 'Manager 1 on 1', 'start': Timestamp('2023-10-02 13:30:00-0700', tz='America/Los_Angeles'), 'end': Timestamp('2023-10-02 14:00:00-0700', tz='America/Los_Angeles'), 'duration': 1800.0, 'attendees': 'richardx@example.com(needsAction)\\nrichardbaker@example.com(needsAction)'},\n",
    "    {'ID': '43872aa1-2904-4e6e-88a7-2d4a7ed62bb9', 'status': 'confirmed', 'summary': 'Interview with candidate: John', 'start': Timestamp('2023-10-02 14:00:00-0700', tz='America/Los_Angeles'), 'end': Timestamp('2023-10-02 15:00:00-0700', tz='America/Los_Angeles'), 'duration': 3600.0, 'attendees': 'john@externalcompany.com(needsAction)\\nrichardbaker@example.com(needsAction)'},\n",
    "    {'ID': '64de7fcc-448d-4445-8753-568eddfc47c1', 'status': 'confirmed', 'summary': 'Recruitment course', 'start': Timestamp('2023-10-02 16:00:00-0700', tz='America/Los_Angeles'), 'end': Timestamp('2023-10-02 17:30:00-0700', tz='America/Los_Angeles'), 'duration': 5400.0, 'attendees': 'hillary@recruitmentcourse.com(needsAction)\\njanesmith@example.com(needsAction)\\nrichardbaker@example.com(needsAction)\\nterryterrence@example.com(needsAction)'},\n",
    "    {'ID': 'b1a98166-7701-4f5f-82d0-ce9d4e3d1aa5', 'status': 'confirmed', 'summary': 'Interview with candidate: Sally', 'start': Timestamp('2023-10-03 09:30:00-0700', tz='America/Los_Angeles'), 'end': Timestamp('2023-10-03 10:00:00-0700', tz='America/Los_Angeles'), 'duration': 1800.0, 'attendees': 'sally@externalcompany.com(needsAction)\\nrichardbaker@example.com(needsAction)'},\n",
    "    {'ID': '5690101a-5a43-47ca-be3e-545f6ae13bc3', 'status': 'confirmed', 'summary': 'Interview with candidate: Brent', 'start': Timestamp('2023-10-03 10:00:00-0700', tz='America/Los_Angeles'), 'end': Timestamp('2023-10-03 10:30:00-0700', tz='America/Los_Angeles'), 'duration': 1800.0, 'attendees': 'brent@externalcompany.com(needsAction)\\nrichardbaker@example.com(needsAction)'},\n",
    "    {'ID': '833cc6ef-3ec8-4500-ba05-b7dc5a423f7a', 'status': 'confirmed', 'summary': 'Interview with candidate: Bob', 'start': Timestamp('2023-10-03 10:30:00-0700', tz='America/Los_Angeles'), 'end': Timestamp('2023-10-03 11:30:00-0700', tz='America/Los_Angeles'), 'duration': 3600.0, 'attendees': 'bob@externalcompany.com(needsAction)\\nrichardbaker@example.com(needsAction)'},\n",
    "    {'ID': '516ec6dc-15a4-452e-93d2-c8050bb5439e', 'status': 'confirmed', 'summary': 'Lunch and learn: ethical recruiting', 'start': Timestamp('2023-10-03 12:00:00-0700', tz='America/Los_Angeles'), 'end': Timestamp('2023-10-03 13:00:00-0700', tz='America/Los_Angeles'), 'duration': 3600.0, 'attendees': 'janesmith@example.com(needsAction)\\nkensmith@example.com(needsAction)\\nrichardbaker@example.com(needsAction)'},\n",
    "    {'ID': '048df1ab-52f5-42d3-8c08-fd4665e83265', 'status': 'confirmed', 'summary': 'Interview with candidate: Alice', 'start': Timestamp('2023-10-03 13:00:00-0700', tz='America/Los_Angeles'), 'end': Timestamp('2023-10-03 13:30:00-0700', tz='America/Los_Angeles'), 'duration': 1800.0, 'attendees': 'alice@externalcompany.com(needsAction)\\njanesmith@example.com(needsAction)\\nrichardbaker@example.com(needsAction)'},\n",
    "    {'ID': 'b9168d58-59a2-4fb1-b7d3-e364a3ab9dec', 'status': 'confirmed', 'summary': 'Interview with candidate: Jane', 'start': Timestamp('2023-10-03 13:30:00-0700', tz='America/Los_Angeles'), 'end': Timestamp('2023-10-03 14:00:00-0700', tz='America/Los_Angeles'), 'duration': 1800.0, 'attendees': 'jane@externalcompany.com(needsAction)\\nrichardbaker@example.com(needsAction)'},\n",
    "    {'ID': 'ffec807a-c51b-43bb-b9a8-f3bf31303dfb', 'status': 'confirmed', 'summary': 'Job fair: bob hill university', 'start': Timestamp('2023-10-03 14:30:00-0700', tz='America/Los_Angeles'), 'end': Timestamp('2023-10-03 16:00:00-0700', tz='America/Los_Angeles'), 'duration': 5400.0, 'attendees': ''},\n",
    "    {'ID': 'e3e5aa3b-5646-41db-a9f0-6563fbd780ca', 'status': 'confirmed', 'summary': 'Recruitment analytics review', 'start': Timestamp('2023-10-03 16:30:00-0700', tz='America/Los_Angeles'), 'end': Timestamp('2023-10-03 17:00:00-0700', tz='America/Los_Angeles'), 'duration': 1800.0, 'attendees': 'janesmith@example.com(needsAction)\\nrichardbaker@example.com(needsAction)'},\n",
    "    {'ID': '2ee10fc7-88ef-4a3e-ad29-b0d4f52f355b', 'status': 'confirmed', 'summary': 'Online candidate search', 'start': Timestamp('2023-10-04 09:00:00-0700', tz='America/Los_Angeles'), 'end': Timestamp('2023-10-04 11:00:00-0700', tz='America/Los_Angeles'), 'duration': 7200.0, 'attendees': ''},\n",
    "    {'ID': '5e5a1235-b1a4-449a-b2bf-a6604fa880e2', 'status': 'confirmed', 'summary': 'Interview with candidate: Stacy', 'start': Timestamp('2023-10-04 11:30:00-0700', tz='America/Los_Angeles'), 'end': Timestamp('2023-10-04 12:30:00-0700', tz='America/Los_Angeles'), 'duration': 3600.0, 'attendees': 'richardbaker@example.com(needsAction)\\nstacy@externalcompany.com(needsAction)'},\n",
    "    {'ID': '27215f76-ab8c-47c8-986f-fb92965e75c5', 'status': 'confirmed', 'summary': 'Lunch', 'start': Timestamp('2023-10-04 12:30:00-0700', tz='America/Los_Angeles'), 'end': Timestamp('2023-10-04 13:30:00-0700', tz='America/Los_Angeles'), 'duration': 3600.0, 'attendees': ''},\n",
    "    {'ID': '39c217df-8138-4a9e-b219-f1af2574e738', 'status': 'confirmed', 'summary': 'Online candidate search', 'start': Timestamp('2023-10-04 14:00:00-0700', tz='America/Los_Angeles'), 'end': Timestamp('2023-10-04 16:00:00-0700', tz='America/Los_Angeles'), 'duration': 7200.0, 'attendees': ''},\n",
    "    {'ID': 'bde5030b-698d-4378-abed-dd07a9621457', 'status': 'confirmed', 'summary': 'Job fair: alice smith university', 'start': Timestamp('2023-10-04 16:15:00-0700', tz='America/Los_Angeles'), 'end': Timestamp('2023-10-04 18:00:00-0700', tz='America/Los_Angeles'), 'duration': 6300.0, 'attendees': ''},\n",
    "    {'ID': 'ee02de3c-502a-436f-9eda-7672570a80e3', 'status': 'confirmed', 'summary': 'Interview with candidate: Lenny', 'start': Timestamp('2023-10-05 09:30:00-0700', tz='America/Los_Angeles'), 'end': Timestamp('2023-10-05 10:00:00-0700', tz='America/Los_Angeles'), 'duration': 1800.0, 'attendees': 'richardbaker@example.com(needsAction)\\nlenny@externalcompany.com(needsAction)'}\n",
    "]\n",
    "    \n",
    "calendar_data = DataFrame(df_as_dicts)  \n",
    "calendar_data = convert_date(calendar_data)\n",
    "# calendar_data"
   ]
  },
  {
   "cell_type": "markdown",
   "metadata": {},
   "source": [
    "For normal use GPT-4 test"
   ]
  },
  {
   "cell_type": "code",
   "execution_count": 150,
   "metadata": {},
   "outputs": [],
   "source": [
    "PROMPT = \"\"\"You are provided a calendar dataset. This calendar is a Pandas dataframe named filtered_calendar_data, columns = [ID, status, summary, start, end , duration, attendees].\n",
    "    This DataFrame filtered_calendar_data is a filtered dataframe, which includes all of your meeting records you need to answer the question. For example, if the question is in which day I have most meetings this week, then the calendar_data only consists of this weeks meeting records.\n",
    "    Provide a chain of thought for your reasoning, analyze the date requirement, filter dataframe, and then fill the python function <query_dataframe>. \n",
    "    First, based on the dataframe and question, breakdown the question into several steps; Second, implement those steps in Python using the datetime module and Pandas:\n",
    "\n",
    "    The input dataframe filtered_calendar_data have following columns:\n",
    "    - ID: meeting ID;\n",
    "    - status: meeting status, including the following status: cancelled, confirmed, tentative, data type 'string'.\n",
    "    - summary: meeting or event topic, data type 'string';\n",
    "    - start: the start datetime of meeting, data type 'datetime64[ns]', and date format: '%Y-%m-%d %H:%M:%S'.;\n",
    "    - end: the start datetime of meeting, data type 'datetime64[ns]', and date format: '%Y-%m-%d %H:%M:%S',;\n",
    "    - duration: meeting duration, data type 'int64', and date format: second;\n",
    "    - attendees: email address of people who attend the meeting, data type 'str', emails address are delimited by the line terminator.\n",
    "    \n",
    "    **instruction**\n",
    "    - provided python packages:'pandas' and 'datetime';\n",
    "    - the python function is <query_dataframe>;\n",
    "    - the inpout and the Return value are all DataFrame;\n",
    "    - the default parameter: assuming start of the day at \"09:00:00\" end of day at \"18:00:00\", the default event interval is 30 minutes; \n",
    "    - all the questions use same timezone, thus don't have to convert the timezone;\n",
    "    - if the today's date is required, use the floowing python code:\n",
    "    ```python\n",
    "    # get today's date, if the question is related to datetime, use today_date, otherwise ignore this code\n",
    "    today_date = pd.to_datetime('2023-10-02 08:25:30', format='%Y-%m-%d %H:%M:%S')\n",
    "    ```\n",
    "    _example_:\n",
    "    **task**: Analyze my calendar and find out the same time slot every weekday to schedule regular meeting \n",
    "    **example**:\n",
    "    ```python\n",
    "    def query_dataframe(filtered_calendar_data):\n",
    "        # Step 1: Filter out cancelled meetings\n",
    "        active_meetings = filtered_calendar_data[filtered_calendar_data['status'] != 'cancelled']\n",
    "        \n",
    "        # Step 2: Extract day of the week\n",
    "        active_meetings['day_of_week'] = active_meetings['start'].dt.dayofweek\n",
    "        \n",
    "        # Step 3: Creating 30-minute windows during business hours\n",
    "        business_hours = pd.date_range(start=\"09:00:00\", end=\"18:00:00\", freq=\"30T\")\n",
    "        time_slots = [(start.time(), (start + pd.Timedelta(minutes=30)).time()) for start in business_hours]\n",
    "        \n",
    "        # Step 4: Filter for weekdays (Monday(0) to Friday(4))\n",
    "        weekday_meetings = active_meetings[active_meetings['day_of_week'].isin(range(5))]\n",
    "        \n",
    "        # Step 5: Group by day of the week\n",
    "        grouped_by_day = weekday_meetings.groupby(\"day_of_week\")\n",
    "        \n",
    "        # Step 6: Analyzing consistency across weekdays\n",
    "        consistent_slots = []\n",
    "        for slot in time_slots:\n",
    "            slot_coverage = 0\n",
    "            for _, day_group in grouped_by_day:\n",
    "                if any((day_group['start'].dt.time <= slot[0]) & (day_group['end'].dt.time >= slot[1])):\n",
    "                    slot_coverage += 1\n",
    "            \n",
    "            if slot_coverage == 0:  # each weekday has at least one meeting covering the slot\n",
    "                consistent_slots.append(slot)\n",
    "        \n",
    "        # Step 7: Results Generation\n",
    "        if consistent_slots:\n",
    "            return pd.DataFrame(consistent_slots, columns=[\"Start Time\", \"End Time\"])\n",
    "        else:\n",
    "            return pd.DataFrame(columns=[\"Start Time\", \"End Time\"])\n",
    "    ```\n",
    "\n",
    "    Here is the question: At what hour of the day I typically have the most meetings?\n",
    "    \"\"\""
   ]
  },
  {
   "cell_type": "code",
   "execution_count": 151,
   "metadata": {},
   "outputs": [
    {
     "name": "stdout",
     "output_type": "stream",
     "text": [
      "To find the hour of the day during which you typically have the most meetings from the provided `filtered_calendar_data` DataFrame, you would generally follow these steps:\n",
      "\n",
      "1. **Exclude Cancelled Meetings**: You do not want to include meetings that were cancelled in your analysis, since those meetings did not actually take place.\n",
      "\n",
      "2. **Extract the Hour from Start Times**: You need to isolate the hour from the start times of all meetings. This will let you aggregate meetings by each hour of the day.\n",
      "\n",
      "3. **Count Meetings per Hour**: Count the number of meetings that start within each distinct hour over the dataset. This step involves grouping the data by hour and counting instances.\n",
      "\n",
      "4. **Identify the Hour with Maximum Frequency**: From the aggregation in the previous step, determine which hour has the highest count of meetings.\n",
      "\n",
      "Implementing this in Python using Pandas might look like the following:\n",
      "\n",
      "```python\n",
      "import pandas as pd\n",
      "\n",
      "def query_dataframe(filtered_calendar_data):\n",
      "    # Step 1: Filter out cancelled meetings\n",
      "    active_meetings = filtered_calendar_data[filtered_calendar_data['status'] != 'cancelled']\n",
      "    \n",
      "    # Step 2: Extract hour of the day from start times\n",
      "    active_meetings['start_hour'] = active_meetings['start'].dt.hour\n",
      "    \n",
      "    # Step 3: Count meetings per hour\n",
      "    meetings_per_hour = active_meetings['start_hour'].value_counts().sort_index()\n",
      "    \n",
      "    # Step 4: Identify the hour with the maximum number of meetings\n",
      "    max_meetings_hour = meetings_per_hour.idxmax()\n",
      "    \n",
      "    # Retrieve count for the hour with the most meetings\n",
      "    max_count = meetings_per_hour[max_meetings_hour]\n",
      "    \n",
      "    # Step 5: Return a DataFrame with the result\n",
      "    result = pd.DataFrame({\n",
      "        'Hour of Day': [max_meetings_hour],\n",
      "        'Number of Meetings': [max_count]\n",
      "    })\n",
      "    \n",
      "    return result\n",
      "\n",
      "# Example of the DataFrame output format you will receive\n",
      "print(query_dataframe(filtered_calendar_data))\n",
      "```\n",
      "\n",
      "### Detailed Explanation:\n",
      "\n",
      "1. **active_meetings Filter**: We eliminate any rows where the meeting status is 'cancelled' since these meetings did not occur.\n",
      "\n",
      "2. **Extracting Hour**: The hour component of the `start` time is extracted, which simplifies the counting process by providing an easily comparable integer rather than full timestamp.\n",
      "\n",
      "3. **Counting Logic**: Using the `value_counts` method grouped by this extracted hour means we can efficiently tally up how many meetings typically start during each particular hour.\n",
      "\n",
      "4. **Finding Maximum**: `idxmax()` is used to find the index, which is the hour in this case, where the count of meetings is highest. This tells us the busiest hour.\n",
      "\n",
      "The result is returned in a DataFrame that provides the hour with the most meetings and how many meetings occur during that particular hour, responding directly to the query question.\n"
     ]
    }
   ],
   "source": [
    "MODEL = \"gpt-4-turbo\"\n",
    "# MODEL = \"gpt-3.5-turbo\"\n",
    "\n",
    "client = OpenAI(\n",
    "    # This is the default and can be omitted\n",
    "    api_key=os.environ.get(\"OPENAI_API_KEY\"),\n",
    ")\n",
    "\n",
    "chat_completion = client.chat.completions.create(\n",
    "    messages=[\n",
    "        {\n",
    "            \"role\": \"user\",\n",
    "            \"content\":PROMPT,\n",
    "        }\n",
    "    ],\n",
    "    model=MODEL,\n",
    ")\n",
    "\n",
    "# verify the output\n",
    "generated_text = chat_completion.choices[0].message.content\n",
    "print(generated_text)"
   ]
  },
  {
   "cell_type": "markdown",
   "metadata": {},
   "source": [
    "## Code test"
   ]
  },
  {
   "cell_type": "code",
   "execution_count": 128,
   "metadata": {},
   "outputs": [
    {
     "data": {
      "text/plain": [
       "'import pandas as pd\\n\\ndef query_dataframe(filtered_calendar_data):\\n    # Step 1: Filter out cancelled meetings\\n    active_meetings = filtered_calendar_data[filtered_calendar_data[\\'status\\'] != \\'cancelled\\']\\n    \\n    # Step 2: Extract day of the week\\n    active_meetings[\\'day_of_week\\'] = active_meetings[\\'start\\'].dt.dayofweek\\n    \\n    # Step 3: Generating 30 min time windows\\n    business_hours = pd.date_range(start=\"09:00\", end=\"18:00\", freq=\"30T\")\\n    time_slots = [(start.time(), (start + pd.Timedelta(minutes=30)).time()) for start in business_hours]\\n    \\n    # Filtering relevant days\\n    monday_tuesday_meetings = active_meetings[active_meetings[\\'day_of_week\\'].isin([0, 1])]\\n    \\n    # Step 4: Format meetings\\' start times to nearest half hour\\n    monday_tuesday_meetings[\\'time_slot_start\\'] = monday_tuesday_meetings[\\'start\\'].dt.floor(\\'30T\\').dt.time\\n    \\n    # Step 5: Analyze consistencies\\n    consistent_slots = {}\\n    for slot in time_slots:\\n        temp_df = monday_tuesday_meetings[\\n            (monday_tuesday_meetings[\\'time_slot_start\\'] == slot[0])\\n        ]\\n        if len(temp_df[\\'day_of_week\\'].unique()) == 2:\\n            consistent_slots[slot[0]] = slot\\n    \\n    # Results Generation\\n    if consistent_slots:\\n        return pd.DataFrame(list(consistent_slots.values()), columns=[\"Start Time\", \"End Time\"])\\n    else:\\n        return pd.DataFrame(columns=[\"Start Time\", \"End Time\"])\\n\\n# Example usage would involve calling `query_dataframe` with a \\'filtered_calendar_data\\' DataFrame,\\n# which should contain the appropriate meetings data as outlined.\\n'"
      ]
     },
     "execution_count": 128,
     "metadata": {},
     "output_type": "execute_result"
    }
   ],
   "source": [
    "def get_python_code(llm_reply_with_code):\n",
    "    _python_code_re_pattern = \"```python\\n(.*?)```\"\n",
    "    llm_reply_without_code = re.sub(\n",
    "                _python_code_re_pattern, \"\", llm_reply_with_code, flags=re.DOTALL\n",
    "                )\n",
    "    python_code_list = re.findall(_python_code_re_pattern, llm_reply_with_code, re.DOTALL)\n",
    "    return python_code_list[0]\n",
    "\n",
    "python_code_list = get_python_code(generated_text)\n",
    "python_code_list"
   ]
  },
  {
   "cell_type": "code",
   "execution_count": 129,
   "metadata": {},
   "outputs": [
    {
     "name": "stderr",
     "output_type": "stream",
     "text": [
      "<string>:18: SettingWithCopyWarning: \n",
      "A value is trying to be set on a copy of a slice from a DataFrame.\n",
      "Try using .loc[row_indexer,col_indexer] = value instead\n",
      "\n",
      "See the caveats in the documentation: https://pandas.pydata.org/pandas-docs/stable/user_guide/indexing.html#returning-a-view-versus-a-copy\n"
     ]
    },
    {
     "data": {
      "text/html": [
       "<div>\n",
       "<style scoped>\n",
       "    .dataframe tbody tr th:only-of-type {\n",
       "        vertical-align: middle;\n",
       "    }\n",
       "\n",
       "    .dataframe tbody tr th {\n",
       "        vertical-align: top;\n",
       "    }\n",
       "\n",
       "    .dataframe thead th {\n",
       "        text-align: right;\n",
       "    }\n",
       "</style>\n",
       "<table border=\"1\" class=\"dataframe\">\n",
       "  <thead>\n",
       "    <tr style=\"text-align: right;\">\n",
       "      <th></th>\n",
       "      <th>Start Time</th>\n",
       "      <th>End Time</th>\n",
       "    </tr>\n",
       "  </thead>\n",
       "  <tbody>\n",
       "    <tr>\n",
       "      <th>0</th>\n",
       "      <td>10:00:00</td>\n",
       "      <td>10:30:00</td>\n",
       "    </tr>\n",
       "    <tr>\n",
       "      <th>1</th>\n",
       "      <td>12:00:00</td>\n",
       "      <td>12:30:00</td>\n",
       "    </tr>\n",
       "    <tr>\n",
       "      <th>2</th>\n",
       "      <td>13:30:00</td>\n",
       "      <td>14:00:00</td>\n",
       "    </tr>\n",
       "  </tbody>\n",
       "</table>\n",
       "</div>"
      ],
      "text/plain": [
       "  Start Time  End Time\n",
       "0   10:00:00  10:30:00\n",
       "1   12:00:00  12:30:00\n",
       "2   13:30:00  14:00:00"
      ]
     },
     "execution_count": 129,
     "metadata": {},
     "output_type": "execute_result"
    }
   ],
   "source": [
    "try:\n",
    "    # define the generated <query_dataframe> function code \n",
    "    exec(python_code_list)\n",
    "    answer = query_dataframe(calendar_data.copy())\n",
    "except Exception as E:\n",
    "    print(f\"\"\"Non-executable code: {E}\"\"\")\n",
    "    pass\n",
    "\n",
    "answer"
   ]
  },
  {
   "cell_type": "code",
   "execution_count": 131,
   "metadata": {},
   "outputs": [
    {
     "name": "stdout",
     "output_type": "stream",
     "text": [
      "True\n"
     ]
    }
   ],
   "source": [
    "today_date = pd.to_datetime('2023-10-02 08:25:30', format='%Y-%m-%d %H:%M:%S')\n",
    "today_date1 = pd.to_datetime('2023-10-02 09:25:30', format='%Y-%m-%d %H:%M:%S')\n",
    "\n",
    "print(today_date<today_date1)"
   ]
  }
 ],
 "metadata": {
  "kernelspec": {
   "display_name": "Python 3",
   "language": "python",
   "name": "python3"
  },
  "language_info": {
   "codemirror_mode": {
    "name": "ipython",
    "version": 3
   },
   "file_extension": ".py",
   "mimetype": "text/x-python",
   "name": "python",
   "nbconvert_exporter": "python",
   "pygments_lexer": "ipython3",
   "version": "3.12.1"
  }
 },
 "nbformat": 4,
 "nbformat_minor": 2
}
