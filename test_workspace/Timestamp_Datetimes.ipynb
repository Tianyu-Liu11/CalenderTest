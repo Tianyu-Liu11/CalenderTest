{
 "cells": [
  {
   "cell_type": "code",
   "execution_count": 18,
   "metadata": {},
   "outputs": [],
   "source": [
    "import pandas as pd"
   ]
  },
  {
   "cell_type": "code",
   "execution_count": 25,
   "metadata": {},
   "outputs": [],
   "source": [
    "DATA_PATH = \"../data/\"\n",
    "def get_calendar_data(DATA_PATH):\n",
    "    return pd.read_csv(DATA_PATH + \"calendar_data.csv\")\n",
    "\n",
    "calendar_data = get_calendar_data(DATA_PATH)\n",
    "# convert the start and end time into datetime format (%Y-%m-%d %H:%M:%S)\n",
    "def convert_date(calendar_data):   \n",
    "    # Convert 'start' and 'end' columns to datetime objects\n",
    "    calendar_data['start'] = pd.to_datetime(calendar_data['start'])\n",
    "    calendar_data['end']   = pd.to_datetime(calendar_data['end'])\n",
    "\n",
    "    # # Format 'start' and 'end' columns into the desired string format\n",
    "    # calendar_data['start'] = calendar_data['start'].dt.strftime('%Y-%m-%d %H:%M:%S')\n",
    "    # calendar_data['end']   = calendar_data['end'].dt.strftime('%Y-%m-%d %H:%M:%S')\n",
    "\n",
    "    return calendar_data\n",
    "calendar_data = convert_date(calendar_data)\n"
   ]
  },
  {
   "cell_type": "code",
   "execution_count": 26,
   "metadata": {},
   "outputs": [
    {
     "name": "stdout",
     "output_type": "stream",
     "text": [
      "<class 'pandas.core.series.Series'>\n"
     ]
    }
   ],
   "source": [
    "print(type(calendar_data['end']))"
   ]
  },
  {
   "cell_type": "code",
   "execution_count": 32,
   "metadata": {},
   "outputs": [
    {
     "data": {
      "text/plain": [
       "'Friday'"
      ]
     },
     "execution_count": 32,
     "metadata": {},
     "output_type": "execute_result"
    }
   ],
   "source": [
    "today_date = pd.to_datetime('2024-04-02 09:02:30', format='%Y-%m-%d %H:%M:%S')\n",
    "\n",
    "# Convert 'start' and 'end' columns to datetime objects\n",
    "calendar_data['start_datetime'] = pd.to_datetime(calendar_data['start'])\n",
    "calendar_data['end_datetime']   = pd.to_datetime(calendar_data['end'])\n",
    "\n",
    "# calendar_data['weekday']\n",
    "weekdays = [\"Monday\", \"Tuesday\", \"Wednesday\", \"Thursday\", \"Friday\", \"Saturday\", \"Sunday\"]\n",
    "weekday = weekdays[pd.to_datetime(calendar_data['start'][0]).weekday()]\n",
    "\n",
    "\n",
    "# # Format 'start' and 'end' columns into the desired string format\n",
    "# calendar_data['start_string'] = calendar_data['start_datetime'].dt.strftime('%Y-%m-%d %H:%M:%S')\n",
    "# calendar_data['end_string']   = calendar_data['end_datetime'].dt.strftime('%Y-%m-%d %H:%M:%S')\n",
    "\n",
    "weekday"
   ]
  },
  {
   "cell_type": "code",
   "execution_count": 17,
   "metadata": {},
   "outputs": [
    {
     "name": "stdout",
     "output_type": "stream",
     "text": [
      "Tuesday\n"
     ]
    }
   ],
   "source": [
    "# <class 'pandas._libs.tslibs.timestamps.Timestamp'>\n",
    "print(type(today_date))   \n",
    "# <class 'pandas.core.series.Series'> \n",
    "print(type(calendar_data['start']))\n",
    "# <class 'pandas.core.series.Series'>\n",
    "print(type(calendar_data['start_datetime']))\n",
    "# <class 'pandas.core.series.Series'>\n",
    "print(type(calendar_data['start_string']))"
   ]
  }
 ],
 "metadata": {
  "kernelspec": {
   "display_name": "Python 3",
   "language": "python",
   "name": "python3"
  },
  "language_info": {
   "codemirror_mode": {
    "name": "ipython",
    "version": 3
   },
   "file_extension": ".py",
   "mimetype": "text/x-python",
   "name": "python",
   "nbconvert_exporter": "python",
   "pygments_lexer": "ipython3",
   "version": "3.12.1"
  }
 },
 "nbformat": 4,
 "nbformat_minor": 2
}
