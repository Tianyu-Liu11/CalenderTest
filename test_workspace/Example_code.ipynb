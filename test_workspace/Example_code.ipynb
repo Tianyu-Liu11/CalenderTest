{
 "cells": [
  {
   "cell_type": "markdown",
   "metadata": {},
   "source": [
    "# Example code"
   ]
  },
  {
   "cell_type": "markdown",
   "metadata": {},
   "source": [
    "## this tuesday, next week, last week, "
   ]
  },
  {
   "cell_type": "code",
   "execution_count": null,
   "metadata": {},
   "outputs": [],
   "source": [
    "# Question : How many meetings do I have this tuesday?\n",
    "#  True answer: 2\n",
    "# Wrong answer: 8\n",
    "\n",
    "def query_dataframe(calendar_data):\n",
    "    import pandas as pd\n",
    "    \n",
    "    # get today's date\n",
    "    today_date = pd.to_datetime('2024-04-02 09:02:30', format='%Y-%m-%d %H:%M:%S')\n",
    "    \n",
    "    # Filter the dataframe for meetings happening this Tuesday\n",
    "    meetings_this_tuesday = calendar_data[calendar_data['start'].dt.dayofweek == 1]  # 1 corresponds to Tuesday\n",
    "    \n",
    "    # Count the number of meetings on Tuesday\n",
    "    num_meetings_this_tuesday = len(meetings_this_tuesday)\n",
    "    \n",
    "    return num_meetings_this_tuesday\n",
    "\n",
    "\n",
    "\n",
    "# Question: Do I have meeting next weekend, True or False?\n",
    "#  True answer: False\n",
    "# Wrong answer: True\n",
    "def query_dataframe(calendar_data):\n",
    "    \n",
    "    # get today's date\n",
    "    today_date = pd.to_datetime('2024-04-02 09:02:30', format='%Y-%m-%d %H:%M:%S')\n",
    "    \n",
    "    # Find the date of the next Saturday and Sunday\n",
    "    next_saturday = today_date + pd.DateOffset(days=(5 - today_date.weekday() + 7) % 7)\n",
    "    next_sunday = today_date + pd.DateOffset(days=(6 - today_date.weekday() + 7) % 7)\n",
    "    \n",
    "    # Filter the dataframe for meetings on next Saturday and Sunday\n",
    "    meetings_next_weekend = calendar_data[(calendar_data['start'].dt.date >= next_saturday.date()) & \n",
    "                                          (calendar_data['end'].dt.date <= next_sunday.date())]\n",
    "    \n",
    "    # Check if there are any meetings next weekend\n",
    "    if not meetings_next_weekend.empty:\n",
    "        return True\n",
    "    else:\n",
    "        return False\n"
   ]
  },
  {
   "cell_type": "code",
   "execution_count": null,
   "metadata": {},
   "outputs": [],
   "source": [
    "# Question: How many meetings do I have in this tuesday afternoon?\n",
    "#  True answer: 1\n",
    "# Wrong answer: 5\n",
    "\n",
    "def query_dataframe(calendar_data):\n",
    "    import pandas as pd\n",
    "\n",
    "    # get today's date\n",
    "    today_date = pd.to_datetime('2024-04-02 09:02:30', format='%Y-%m-%d %H:%M:%S')\n",
    "    \n",
    "    # Filter the dataframe for meetings happening this Tuesday afternoon\n",
    "    tuesday_afternoon_meetings = calendar_data[(calendar_data['start'].dt.day_name() == 'Tuesday') & \n",
    "                                               (calendar_data['start'].dt.hour >= 12) & \n",
    "                                               (calendar_data['start'].dt.hour < 18)]\n",
    "    \n",
    "    # Count the number of meetings\n",
    "    num_meetings = len(tuesday_afternoon_meetings)\n",
    "    \n",
    "    return num_meetings\n"
   ]
  },
  {
   "cell_type": "markdown",
   "metadata": {},
   "source": [
    "## Why this is wrong"
   ]
  },
  {
   "cell_type": "code",
   "execution_count": null,
   "metadata": {},
   "outputs": [],
   "source": [
    "# Question: Do I have meeting this tuesday afternoon, True or False??\n",
    "#  True answer: True\n",
    "# Wrong answer: False\n",
    "\n",
    "def query_dataframe(calendar_data):\n",
    "    # Get today's date\n",
    "    today_date = pd.to_datetime('2024-04-02 09:02:30', format='%Y-%m-%d %H:%M:%S')\n",
    "    \n",
    "    # Find the date for this Tuesday\n",
    "    this_tuesday = today_date + pd.DateOffset(days=(1 - today_date.dayofweek) % 7 + 1)\n",
    "    \n",
    "    # Filter the dataframe to include only meetings happening on Tuesday\n",
    "    tuesday_meetings = calendar_data[(calendar_data['start'].dt.dayofweek == this_tuesday.dayofweek)]\n",
    "    \n",
    "    # Check if there are any meetings scheduled for Tuesday afternoon\n",
    "    tuesday_afternoon_meetings = tuesday_meetings[(tuesday_meetings['start'].dt.hour >= 12) & (tuesday_meetings['start'].dt.hour < 18)]\n",
    "    \n",
    "    return not tuesday_afternoon_meetings.empty\n",
    "\n",
    "\n",
    "# Question: How many meetings do I have next weekend?\n",
    "#  True answer: 0\n",
    "# Wrong answer: 1\n",
    "def query_dataframe(calendar_data):\n",
    "    \n",
    "    # get today's date\n",
    "    today_date = pd.to_datetime('2024-04-02 09:02:30', format='%Y-%m-%d %H:%M:%S')\n",
    "    \n",
    "    # Calculate the date of the upcoming weekend\n",
    "    next_weekend = today_date + pd.DateOffset(days=(5 - today_date.weekday()))\n",
    "    next_weekend_end = next_weekend + pd.DateOffset(days=2)\n",
    "    \n",
    "    # Filter the dataframe for meetings happening next weekend\n",
    "    next_weekend_meetings = calendar_data[(calendar_data['start'] >= next_weekend) & \n",
    "                                           (calendar_data['start'] <= next_weekend_end)]\n",
    "    \n",
    "    # Count the number of meetings for next weekend\n",
    "    num_meetings_next_weekend = len(next_weekend_meetings)\n",
    "    \n",
    "    return num_meetings_next_weekend\n",
    "\n"
   ]
  },
  {
   "cell_type": "markdown",
   "metadata": {},
   "source": [
    "## %Y-%m-%d OR %Y-%m-%d %H:%M:%S Consioder the hour?"
   ]
  },
  {
   "cell_type": "code",
   "execution_count": null,
   "metadata": {},
   "outputs": [],
   "source": [
    "# Question: How many meetings do I have this week in total?\n",
    "#  True answer: 4\n",
    "# Wrong answer: 3\n",
    "# Should use the date\n",
    "\n",
    "def query_dataframe(calendar_data):\n",
    "    \n",
    "    # Get today's date\n",
    "    today_date = pd.to_datetime('2024-04-02 09:02:30', format='%Y-%m-%d %H:%M:%S')\n",
    "    \n",
    "    # Calculate the start and end of the current week\n",
    "    start_of_week = today_date - pd.DateOffset(days=today_date.dayofweek)\n",
    "    end_of_week = start_of_week + pd.DateOffset(days=6)\n",
    "    \n",
    "    # Filter the dataframe for meetings within the current week\n",
    "    meetings_this_week = calendar_data[(calendar_data['start'] >= start_of_week) & (calendar_data['start'] <= end_of_week)]\n",
    "    \n",
    "    # Get the total number of meetings for the week\n",
    "    total_meetings_this_week = len(meetings_this_week)\n",
    "    \n",
    "    return total_meetings_this_week"
   ]
  },
  {
   "cell_type": "markdown",
   "metadata": {},
   "source": [
    "## Do I have meeting in next two hours"
   ]
  }
 ],
 "metadata": {
  "language_info": {
   "name": "python"
  }
 },
 "nbformat": 4,
 "nbformat_minor": 2
}
