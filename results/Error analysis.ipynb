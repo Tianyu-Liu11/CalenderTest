{
 "cells": [
  {
   "cell_type": "markdown",
   "metadata": {},
   "source": [
    "# Error analysis\n",
    "\n",
    "1. "
   ]
  },
  {
   "cell_type": "markdown",
   "metadata": {},
   "source": [
    "## Invalid comparison between dtype=datetime64[ns, UTC] and Timestamp\n",
    "\n",
    "```python\n",
    "def query_dataframe(calendar_data):\n",
    "    # get today's date\n",
    "    today_date = pd.to_datetime('2024-04-02 09:02:30', format='%Y-%m-%d %H:%M:%S')\n",
    "    \n",
    "    # Filter the dataframe for this week\n",
    "    start_of_week = today_date - pd.DateOffset(days=today_date.dayofweek)\n",
    "\n",
    "    end_of_week = start_of_week + pd.DateOffset(days=6)\n",
    "\n",
    "    this_week_data = calendar_data[(pd.to_datetime(calendar_data['start']) >= start_of_week) & (pd.to_datetime(calendar_data['end']) <= end_of_week)]\n",
    "    \n",
    "    # Filter for Tuesday mornings\n",
    "    tuesday_morning_data = this_week_data[(pd.to_datetime(this_week_data['start']).dt.dayofweek == 1) & (pd.to_datetime(this_week_data['start']).dt.hour < 12)]\n",
    "    \n",
    "    # Count the number of meetings\n",
    "    num_meetings = len(tuesday_morning_data)\n",
    "    \n",
    "    return num_meetings\n",
    "```"
   ]
  },
  {
   "cell_type": "markdown",
   "metadata": {},
   "source": [
    "## .dt accessor with datetimelike values"
   ]
  },
  {
   "cell_type": "markdown",
   "metadata": {},
   "source": [
    "### 1\n",
    "Question: How many events do I have scheduled for today?\n",
    " True answer: 2\n",
    " Non-executable code: Can only use .dt accessor with datetimelike values\n",
    " ```python\n",
    "import pandas as pd\n",
    "\n",
    "def query_dataframe(calendar_data):\n",
    "    \n",
    "    # get today's date\n",
    "    today_date = pd.to_datetime('2024-04-02 09:02:30', format='%Y-%m-%d %H:%M:%S')\n",
    "    \n",
    "    # Filter the dataframe to include only events scheduled for today\n",
    "    today_events = calendar_data[(calendar_data['start'].dt.date == today_date.date())]\n",
    "    \n",
    "    # Count the number of events for today\n",
    "    num_events_today = len(today_events)\n",
    "    \n",
    "    return num_events_today\n",
    "```\n",
    "\n",
    "\n",
    "### 2\n",
    "Question: Do I have me with natalia tomorrow, True or False?\n",
    "True answer: False\n",
    "Non-executable code: Can only use .dt accessor with datetimelike values\n",
    "\n",
    "```python\n",
    "import pandas as pd\n",
    "\n",
    "def query_dataframe(calendar_data):\n",
    "    # get today's date\n",
    "    today_date = pd.to_datetime('2024-04-02 09:02:30', format='%Y-%m-%d %H:%M:%S')\n",
    "    \n",
    "    # get tomorrow's date\n",
    "    tomorrow_date = today_date + pd.DateOffset(days=1)\n",
    "    \n",
    "    # Filter the dataframe\n",
    "    meetings_tomorrow = calendar_data[(calendar_data['start'].dt.date == tomorrow_date.date()) & \n",
    "                                       (calendar_data['attendees'].str.contains('natalia', case=False))]\n",
    "    \n",
    "    # Check if there are any meetings with Natalia tomorrow\n",
    "    if len(meetings_tomorrow) > 0:\n",
    "        return True\n",
    "    else:\n",
    "        return False\n",
    "```\n",
    "\n",
    "\n",
    "### 2 \n",
    "Question: How many events are scheduled today?\n",
    " True answer: 2\n",
    " Non-executable code: Can only use .dt accessor with datetimelike values\n",
    " ```python\n",
    "import pandas as pd\n",
    "\n",
    "def query_dataframe(calendar_data):\n",
    "    # get today's date\n",
    "    today_date = pd.to_datetime('2024-04-02 09:02:30', format='%Y-%m-%d %H:%M:%S')\n",
    "    \n",
    "    # Filter the dataframe to only include events scheduled for today\n",
    "    today_events = calendar_data[(calendar_data['start'].dt.date == today_date.date())]\n",
    "    \n",
    "    # Count the number of events scheduled for today\n",
    "    num_events_today = len(today_events)\n",
    "    \n",
    "    return num_events_today\n",
    "```\n"
   ]
  },
  {
   "cell_type": "markdown",
   "metadata": {},
   "source": [
    "## Str and Timestamp"
   ]
  },
  {
   "cell_type": "markdown",
   "metadata": {},
   "source": [
    "Question: What is the topic of my next meeting?\n",
    " True answer: Security Best Practices\n",
    " Non-executable code: '>=' not supported between instances of 'str' and 'Timestamp'\n",
    "\n",
    "```python\n",
    "def query_dataframe(calendar_data):\n",
    "    \n",
    "    import pandas as pd\n",
    "    from datetime import datetime\n",
    "    \n",
    "    # get today's date\n",
    "    today_date = pd.to_datetime('2024-04-02 09:02:30', format='%Y-%m-%d %H:%M:%S')\n",
    "    \n",
    "    # Filter the calendar_data to get the meetings happening after the current date and time\n",
    "    upcoming_meetings = calendar_data[calendar_data['start'] >= today_date]\n",
    "    \n",
    "    # Sort the upcoming meetings based on start datetime\n",
    "    upcoming_meetings = upcoming_meetings.sort_values('start')\n",
    "    \n",
    "    # Get the next meeting topic\n",
    "    next_meeting_topic = upcoming_meetings.iloc[0]['summary']\n",
    "    \n",
    "    return next_meeting_topic\n",
    "```"
   ]
  }
 ],
 "metadata": {
  "language_info": {
   "name": "python"
  }
 },
 "nbformat": 4,
 "nbformat_minor": 2
}
