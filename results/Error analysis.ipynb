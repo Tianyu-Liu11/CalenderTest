{
 "cells": [
  {
   "cell_type": "code",
   "execution_count": 2,
   "metadata": {},
   "outputs": [],
   "source": [
    "import os\n",
    "import re\n",
    "import string\n",
    "import json\n",
    "import pandas as pd\n",
    "from openai import OpenAI\n",
    "from dotenv import load_dotenv\n",
    "import matplotlib.pyplot as plt\n",
    "import numpy as np"
   ]
  },
  {
   "cell_type": "markdown",
   "metadata": {},
   "source": [
    "### Dynamic few-shot prompts\n",
    "- this next last\n",
    "- Monday Tuesday Wendesday Thursday Friday Saturday Sunday week weekend weekday\n",
    "- morning afternoon evening night\n",
    "\n",
    "### Fuzzy keywords matching\n",
    " - meeting search via topic\n",
    " - eamil name and attendee names matching \n",
    "\n",
    "\n",
    "Question: What is my **latest** scheduled meeting for today? tell me meeting ID\n",
    "Question: Do I have **database lecture** today, true or false?   \n",
    "Question: How many meetings did I attended **last** week? \n",
    "Question: How many meetings do I have this tuesday?\n",
    "Question: How many meetings do I have tuesday morning this week?\n",
    "Question: Do I have meeting this tuesday afternoon, True or False??\n",
    "Question: How many meetings do I have in this tuesday afternoon?\n",
    "Question: How many meetings do I have this weekend?\n",
    "Question: How many meetings do I have this week in total?\n",
    "Question: Do I have meeting next weekend, True or False?\n",
    "Question: How many meetings do I have next weekend?\n",
    "Question: How many meetings do I have this weekday?\n",
    "Question: How many meetings which are yet to start this week?\n",
    "\n",
    "Question: Find the meeting I attended with salesteam, tell me the meeting ID?\n",
    "Question: How many meetings do I have meeting in this afternoon?\n",
    "\n"
   ]
  },
  {
   "cell_type": "markdown",
   "metadata": {},
   "source": [
    "# Error analysis\n",
    "1. "
   ]
  },
  {
   "cell_type": "code",
   "execution_count": 3,
   "metadata": {},
   "outputs": [
    {
     "name": "stdout",
     "output_type": "stream",
     "text": [
      "<class 'pandas._libs.tslibs.timestamps.Timestamp'>\n"
     ]
    }
   ],
   "source": [
    "today_date = pd.to_datetime('2024-04-02 09:02:30', format='%Y-%m-%d %H:%M:%S')\n",
    "print(type(today_date))"
   ]
  },
  {
   "cell_type": "markdown",
   "metadata": {},
   "source": [
    "Question: How many attendees are there for the meeting with ID 'masbk72a24cb0a8k9c7jo0e9s6'?\n",
    " True answer: 2\n",
    " Wrong answer: 1\n",
    " ```python\n",
    " def query_dataframe(calendar_data):\n",
    "    \n",
    "    # Filter the dataframe to get the specific meeting by ID\n",
    "    specific_meeting = calendar_data[calendar_data['ID'] == 'masbk72a24cb0a8k9c7jo0e9s6']\n",
    "    \n",
    "    # Get the attendees for the specific meeting\n",
    "    if not specific_meeting.empty:\n",
    "        attendees_count = specific_meeting['attendees'].str.split('\\n').apply(len).sum()\n",
    "    else:\n",
    "        attendees_count = 0\n",
    "        \n",
    "    return attendees_count\n",
    " ```"
   ]
  },
  {
   "cell_type": "markdown",
   "metadata": {},
   "source": [
    "## Invalid comparison between dtype=datetime64[ns, UTC] and Timestamp\n",
    "\n",
    "```python\n",
    "def query_dataframe(calendar_data):\n",
    "    # get today's date  ---   <class 'pandas._libs.tslibs.timestamps.Timestamp'>\n",
    "    today_date = pd.to_datetime('2024-04-02 09:02:30', format='%Y-%m-%d %H:%M:%S')\n",
    "    \n",
    "    # Filter the dataframe for this week\n",
    "    start_of_week = today_date - pd.DateOffset(days=today_date.dayofweek)\n",
    "\n",
    "    end_of_week = start_of_week + pd.DateOffset(days=6)\n",
    "\n",
    "    this_week_data = calendar_data[(pd.to_datetime(calendar_data['start']) >= start_of_week) & (pd.to_datetime(calendar_data['end']) <= end_of_week)]\n",
    "    \n",
    "    # Filter for Tuesday mornings\n",
    "    tuesday_morning_data = this_week_data[(pd.to_datetime(this_week_data['start']).dt.dayofweek == 1) & (pd.to_datetime(this_week_data['start']).dt.hour < 12)]\n",
    "    \n",
    "    # Count the number of meetings\n",
    "    num_meetings = len(tuesday_morning_data)\n",
    "    \n",
    "    return num_meetings\n",
    "```"
   ]
  },
  {
   "cell_type": "markdown",
   "metadata": {},
   "source": [
    "## .dt accessor with datetimelike values"
   ]
  },
  {
   "cell_type": "markdown",
   "metadata": {},
   "source": [
    "### 1\n",
    "Question: How many events do I have scheduled for today?\n",
    " True answer: 2\n",
    " Non-executable code: Can only use .dt accessor with datetimelike values\n",
    " ```python\n",
    "import pandas as pd\n",
    "\n",
    "def query_dataframe(calendar_data):\n",
    "    \n",
    "    # get today's date\n",
    "    today_date = pd.to_datetime('2024-04-02 09:02:30', format='%Y-%m-%d %H:%M:%S')\n",
    "    \n",
    "    # Filter the dataframe to include only events scheduled for today\n",
    "    today_events = calendar_data[(calendar_data['start'].dt.date == today_date.date())]\n",
    "    \n",
    "    # Count the number of events for today\n",
    "    num_events_today = len(today_events)\n",
    "    \n",
    "    return num_events_today\n",
    "```\n",
    "\n",
    "\n",
    "### 2\n",
    "Question: Do I have me with natalia tomorrow, True or False?\n",
    "True answer: False\n",
    "Non-executable code: Can only use .dt accessor with datetimelike values\n",
    "\n",
    "```python\n",
    "import pandas as pd\n",
    "\n",
    "def query_dataframe(calendar_data):\n",
    "    # get today's date\n",
    "    today_date = pd.to_datetime('2024-04-02 09:02:30', format='%Y-%m-%d %H:%M:%S')\n",
    "    \n",
    "    # get tomorrow's date\n",
    "    tomorrow_date = today_date + pd.DateOffset(days=1)\n",
    "    \n",
    "    # Filter the dataframe\n",
    "    meetings_tomorrow = calendar_data[(calendar_data['start'].dt.date == tomorrow_date.date()) & \n",
    "                                       (calendar_data['attendees'].str.contains('natalia', case=False))]\n",
    "    \n",
    "    # Check if there are any meetings with Natalia tomorrow\n",
    "    if len(meetings_tomorrow) > 0:\n",
    "        return True\n",
    "    else:\n",
    "        return False\n",
    "```\n",
    "\n",
    "\n",
    "### 2 \n",
    "Question: How many events are scheduled today?\n",
    " True answer: 2\n",
    " Non-executable code: Can only use .dt accessor with datetimelike values\n",
    " ```python\n",
    "import pandas as pd\n",
    "\n",
    "def query_dataframe(calendar_data):\n",
    "    # get today's date\n",
    "    today_date = pd.to_datetime('2024-04-02 09:02:30', format='%Y-%m-%d %H:%M:%S')\n",
    "    \n",
    "    # Filter the dataframe to only include events scheduled for today\n",
    "    today_events = calendar_data[(calendar_data['start'].dt.date == today_date.date())]\n",
    "    \n",
    "    # Count the number of events scheduled for today\n",
    "    num_events_today = len(today_events)\n",
    "    \n",
    "    return num_events_today\n",
    "```\n"
   ]
  },
  {
   "cell_type": "markdown",
   "metadata": {},
   "source": [
    "## Str and Timestamp"
   ]
  },
  {
   "cell_type": "markdown",
   "metadata": {},
   "source": [
    "Question: What is the topic of my next meeting?\n",
    " True answer: Security Best Practices\n",
    " Non-executable code: '>=' not supported between instances of 'str' and 'Timestamp'\n",
    "\n",
    "```python\n",
    "def query_dataframe(calendar_data):\n",
    "    \n",
    "    import pandas as pd\n",
    "    from datetime import datetime\n",
    "    \n",
    "    # get today's date\n",
    "    today_date = pd.to_datetime('2024-04-02 09:02:30', format='%Y-%m-%d %H:%M:%S')\n",
    "    \n",
    "    # Filter the calendar_data to get the meetings happening after the current date and time\n",
    "    upcoming_meetings = calendar_data[calendar_data['start'] >= today_date]\n",
    "    \n",
    "    # Sort the upcoming meetings based on start datetime\n",
    "    upcoming_meetings = upcoming_meetings.sort_values('start')\n",
    "    \n",
    "    # Get the next meeting topic\n",
    "    next_meeting_topic = upcoming_meetings.iloc[0]['summary']\n",
    "    \n",
    "    return next_meeting_topic\n",
    "```"
   ]
  },
  {
   "cell_type": "markdown",
   "metadata": {},
   "source": [
    "## This Next"
   ]
  },
  {
   "cell_type": "markdown",
   "metadata": {},
   "source": [
    "## Last"
   ]
  }
 ],
 "metadata": {
  "kernelspec": {
   "display_name": "Python 3",
   "language": "python",
   "name": "python3"
  },
  "language_info": {
   "codemirror_mode": {
    "name": "ipython",
    "version": 3
   },
   "file_extension": ".py",
   "mimetype": "text/x-python",
   "name": "python",
   "nbconvert_exporter": "python",
   "pygments_lexer": "ipython3",
   "version": "3.12.1"
  }
 },
 "nbformat": 4,
 "nbformat_minor": 2
}
